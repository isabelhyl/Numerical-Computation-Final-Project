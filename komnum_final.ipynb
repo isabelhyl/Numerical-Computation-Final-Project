{
  "nbformat": 4,
  "nbformat_minor": 0,
  "metadata": {
    "colab": {
      "provenance": []
    },
    "kernelspec": {
      "name": "python3",
      "display_name": "Python 3"
    },
    "language_info": {
      "name": "python"
    }
  },
  "cells": [
    {
      "cell_type": "code",
      "execution_count": null,
      "metadata": {
        "id": "E7MgUYNwObkf"
      },
      "outputs": [],
      "source": [
        "import numpy as np\n",
        "import math\n"
      ]
    },
    {
      "cell_type": "code",
      "source": [
        "h = 3\n",
        "n = 4\n",
        "xi_values = np.arange(2, 12, h)\n",
        "\n",
        "for i in range(0, n):\n",
        "    print(\"x\" + str(i) + \": \" + str(xi_values[i]))\n",
        "\n",
        "# print(x_values)"
      ],
      "metadata": {
        "colab": {
          "base_uri": "https://localhost:8080/"
        },
        "id": "qx0t5NcrYS-M",
        "outputId": "65619009-0180-420a-ea5c-174d701f8d6c"
      },
      "execution_count": null,
      "outputs": [
        {
          "output_type": "stream",
          "name": "stdout",
          "text": [
            "x0: 2\n",
            "x1: 5\n",
            "x2: 8\n",
            "x3: 11\n"
          ]
        }
      ]
    },
    {
      "cell_type": "code",
      "source": [
        "# real y values (using the normal integral method):\n",
        "def real_f(x):\n",
        "  return np.round((4*(x**5)/5) - (4*(x**3)), 2)\n",
        "\n",
        "f_real = real_f(xi_values)\n",
        "\n",
        "for i in range(0, n):\n",
        "    print(\"Real f(\" + str(i) + \"): \" + str(f_real[i]))\n",
        "\n",
        "# print(y_real)"
      ],
      "metadata": {
        "colab": {
          "base_uri": "https://localhost:8080/"
        },
        "id": "bc8E36DgcTnj",
        "outputId": "2a448e3f-0f0e-448f-abc4-d757d9a92789"
      },
      "execution_count": null,
      "outputs": [
        {
          "output_type": "stream",
          "name": "stdout",
          "text": [
            "Real f(0): -6.4\n",
            "Real f(1): 2000.0\n",
            "Real f(2): 24166.4\n",
            "Real f(3): 123516.8\n"
          ]
        }
      ]
    },
    {
      "cell_type": "code",
      "source": [
        "# f(x, y) values\n",
        "def y(x):\n",
        "  return np.round((4*(x**4))-(12*(x**2)), 2)\n",
        "\n",
        "yi_values = y(xi_values)\n",
        "\n",
        "for i in range(0, n):\n",
        "    print(\"y\" + str(i) + \": \" + str(yi_values[i]))"
      ],
      "metadata": {
        "colab": {
          "base_uri": "https://localhost:8080/"
        },
        "id": "KEXE9sn8eR61",
        "outputId": "764576b8-c748-4fd5-dc6c-17514c44e0d1"
      },
      "execution_count": null,
      "outputs": [
        {
          "output_type": "stream",
          "name": "stdout",
          "text": [
            "y0: 16\n",
            "y1: 2200\n",
            "y2: 15616\n",
            "y3: 57112\n"
          ]
        }
      ]
    },
    {
      "cell_type": "code",
      "source": [
        "# euler method\n",
        "euler_y = np.zeros(4)\n",
        "\n",
        "# initialize y0 to the real value of y0\n",
        "euler_y[0] = f_real[0]\n",
        "\n",
        "for i in range(0, n-1):\n",
        "  euler_y[i+1] = euler_y[i] + (h*yi_values[i])\n",
        "\n",
        "for i in range(0, n):\n",
        "  print(\"euler y\" + str(i) + \": \" + str(euler_y[i]))"
      ],
      "metadata": {
        "colab": {
          "base_uri": "https://localhost:8080/"
        },
        "id": "C8DZ4aACgXAs",
        "outputId": "9083930f-00bd-4184-fed7-14275f7cc64d"
      },
      "execution_count": null,
      "outputs": [
        {
          "output_type": "stream",
          "name": "stdout",
          "text": [
            "euler y0: -6.4\n",
            "euler y1: 41.6\n",
            "euler y2: 6641.6\n",
            "euler y3: 53489.6\n"
          ]
        }
      ]
    },
    {
      "cell_type": "code",
      "source": [
        "# errors = (abs(euler_y-f_real))/f_real*100\n",
        "\n",
        "def error(i):\n",
        "  return abs(((euler_y[i]-f_real[i]))/f_real[i]*100)\n",
        "# errors = np.where(np.abs(f_real) > 1e-8,\n",
        "#                   np.abs(euler_y - f_real) / np.abs(f_real) * 100,\n",
        "#                   0)\n",
        "\n",
        "errors = [round(error(i), 2) for i in range(n)]\n",
        "errors[0] = \"-\"\n",
        "\n",
        "print(\"Initial conditions:\")\n",
        "print(\"h = 3\")\n",
        "print(\"n = 4\")\n",
        "print(\"x0 = 2 to x3=11\\n\")\n",
        "print(\"if f'(x) = 4x^4 - 12x^2, find the values of f(x) using the Euler method\")\n",
        "\n",
        "print(\"\\n\")\n",
        "\n",
        "print(\"Results:\")\n",
        "print(\"i  x  Euler y  Exact y  Error\")\n",
        "print(\"------------------------------------------------------\")\n",
        "\n",
        "for i in range(0, n):\n",
        "  print(f\"{i}  {xi_values[i]}  {euler_y[i]}      {f_real[i]}     {errors[i]}\")\n"
      ],
      "metadata": {
        "colab": {
          "base_uri": "https://localhost:8080/"
        },
        "id": "kZQytkfejPT6",
        "outputId": "3967375d-625c-4144-d630-7a9b68cb5a4a"
      },
      "execution_count": null,
      "outputs": [
        {
          "output_type": "stream",
          "name": "stdout",
          "text": [
            "Initial conditions:\n",
            "h = 3\n",
            "n = 4\n",
            "x0 = 2 to x3=11\n",
            "\n",
            "if f'(x) = 4x^4 - 12x^2, find the values of f(x) using the Euler method\n",
            "\n",
            "\n",
            "Results:\n",
            "i  x  Euler y  Exact y  Error\n",
            "------------------------------------------------------\n",
            "0  2  -6.4      -6.4     -\n",
            "1  5  41.6      2000.0     97.92\n",
            "2  8  6641.6      24166.4     72.52\n",
            "3  11  53489.6      123516.8     56.69\n"
          ]
        }
      ]
    }
  ]
}